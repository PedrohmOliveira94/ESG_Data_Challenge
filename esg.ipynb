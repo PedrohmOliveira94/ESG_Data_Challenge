{
  "nbformat": 4,
  "nbformat_minor": 0,
  "metadata": {
    "colab": {
      "name": "esg.ipynb",
      "provenance": [],
      "collapsed_sections": []
    },
    "kernelspec": {
      "name": "python3",
      "display_name": "Python 3"
    },
    "language_info": {
      "name": "python"
    }
  },
  "cells": [
    {
      "cell_type": "code",
      "execution_count": 1,
      "metadata": {
        "id": "07Gv2MMuLv-m"
      },
      "outputs": [],
      "source": [
        "import pandas as pd\n",
        "import numpy as np"
      ]
    },
    {
      "cell_type": "code",
      "source": [
        "ChartDf = pd.read_excel('/content/chart_of_accounts.xlsx')\n",
        "LedgerDf = pd.read_excel('/content/general_ledger.xlsx')"
      ],
      "metadata": {
        "id": "-NMRmu_ZL8WG"
      },
      "execution_count": 60,
      "outputs": []
    },
    {
      "cell_type": "code",
      "source": [
        "LedgerDf = LedgerDf.groupby(\"account\")[\"value\"].sum()\n",
        "LedgerDf = LedgerDf.to_frame().reset_index()\n",
        "# Junta transações individuais"
      ],
      "metadata": {
        "id": "47PKTOV_MS4A"
      },
      "execution_count": null,
      "outputs": []
    },
    {
      "cell_type": "code",
      "source": [
        "MergedDf = MergedDf.set_index(\"account\").combine_first(LedgerDf.set_index(\"account\")).reset_index()\n",
        "MergedDf = MergedDf.replace(np.nan, 0)\n",
        "# Combina as tabelas"
      ],
      "metadata": {
        "id": "4QcCqqsugEU3"
      },
      "execution_count": 64,
      "outputs": []
    },
    {
      "cell_type": "code",
      "source": [
        "def counter(x):\n",
        "    out = []\n",
        "    for account, value in zip(x.index, x):\n",
        "        s = sum(\n",
        "            value\n",
        "            for acc, value in out\n",
        "              if acc.startswith(account) and account.count(\".\") == acc.count(\".\") - 1\n",
        "        )\n",
        "        out.append((account, s + value))\n",
        "    return [value for a, value in out]\n",
        "\n",
        "# Para cada account confere se outras acc tem ela como sufixo imediato, caso sim junta os valores em uma lista e depois soma\n",
        "\n",
        "#print(MergedDf.set_index(\"account\")[::-1].apply(counter)[::-1].reset_index())"
      ],
      "metadata": {
        "id": "IgrEgvO8KKVm"
      },
      "execution_count": 96,
      "outputs": []
    },
    {
      "cell_type": "code",
      "source": [
        "SummedDf = MergedDf.set_index(\"account\")[::-1].apply(counter)[::-1].reset_index()\n",
        "# Aplica a função, com o dataset 'ao contrario', depois retorna com a ordem 'certa'"
      ],
      "metadata": {
        "id": "WDLRfAfwRrcH"
      },
      "execution_count": 97,
      "outputs": []
    },
    {
      "cell_type": "code",
      "source": [
        "def checkSums(x, y):\n",
        "  ChecksTotalValue = x[((x == '01') |(x =='02')|(x =='03')|(x =='04')|(x =='05')).any(axis=1)].copy()\n",
        "  return (ChecksTotalValue.value.sum() == y.value.sum())\n",
        "\n",
        "#Teste simples pra ver se a contagem foi feita de maneira correta. "
      ],
      "metadata": {
        "id": "UF39SdMB1eAO"
      },
      "execution_count": 90,
      "outputs": []
    },
    {
      "cell_type": "code",
      "source": [
        "if checkSums(SummedDf, MergedDf):\n",
        "  SummedDf.to_excel('output.xlsx')"
      ],
      "metadata": {
        "id": "7wPzutVPRQ3b"
      },
      "execution_count": 93,
      "outputs": []
    }
  ]
}